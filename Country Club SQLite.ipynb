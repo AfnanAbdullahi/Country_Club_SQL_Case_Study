{
 "cells": [
  {
   "cell_type": "code",
   "execution_count": 71,
   "id": "bd7dbfb1-747f-481f-ba63-d514586723ad",
   "metadata": {},
   "outputs": [
    {
     "name": "stdout",
     "output_type": "stream",
     "text": [
      "Requirement already satisfied: sqlalchemy in c:\\users\\afnan\\onedrive\\desktop\\lib\\site-packages (2.0.22)Note: you may need to restart the kernel to use updated packages.\n",
      "\n",
      "Requirement already satisfied: typing-extensions>=4.2.0 in c:\\users\\afnan\\onedrive\\desktop\\lib\\site-packages (from sqlalchemy) (4.8.0)\n",
      "Requirement already satisfied: greenlet!=0.4.17 in c:\\users\\afnan\\onedrive\\desktop\\lib\\site-packages (from sqlalchemy) (3.0.1)\n"
     ]
    }
   ],
   "source": [
    "pip install sqlalchemy"
   ]
  },
  {
   "cell_type": "code",
   "execution_count": 72,
   "id": "4a6dec91-8541-4b12-a997-a8290a3f96c7",
   "metadata": {},
   "outputs": [],
   "source": [
    "#Imports\n",
    "import pandas as pd\n",
    "from sqlalchemy import create_engine, inspect\n",
    "import datetime"
   ]
  },
  {
   "cell_type": "code",
   "execution_count": 73,
   "id": "cda1daa5-f24d-4f41-b3d3-b02a76a5609d",
   "metadata": {},
   "outputs": [],
   "source": [
    "#create engine\n",
    "engine = create_engine('sqlite:///sqlite_db_pythonsqlite.db')"
   ]
  },
  {
   "cell_type": "code",
   "execution_count": 74,
   "id": "07566742-b360-43e2-90d2-515e3f76c0c6",
   "metadata": {},
   "outputs": [
    {
     "name": "stdout",
     "output_type": "stream",
     "text": [
      "['Bookings', 'Facilities', 'Members']\n"
     ]
    }
   ],
   "source": [
    "# Table Names\n",
    "table_names = inspector.get_table_names()\n",
    "print(table_names)"
   ]
  },
  {
   "cell_type": "markdown",
   "id": "1b5d5f34-51cb-4182-8941-035f02a71ccf",
   "metadata": {},
   "source": [
    "/* Q10: Produce a list of facilities with a total revenue less than 1000.\n",
    "The output of facility name and total revenue, sorted by revenue. Remember\n",
    "that there's a different cost for guests and members! */"
   ]
  },
  {
   "cell_type": "code",
   "execution_count": 75,
   "id": "575169bb-7520-4f62-95f5-362609f214ae",
   "metadata": {},
   "outputs": [],
   "source": [
    "# Create Dataframe\n",
    "revenue = pd.read_sql_query(\"SELECT name, \"\n",
    "                                 \"SUM(CASE WHEN memid = 0 THEN slots * guestcost ELSE slots * membercost END) AS revenue \"\n",
    "                            \"FROM Bookings \"\n",
    "                             \"LEFT JOIN Facilities \"\n",
    "                             \"USING(facid) \"\n",
    "                             \"GROUP BY name \"\n",
    "                             \"HAVING revenue < 1000;\", engine)\n"
   ]
  },
  {
   "cell_type": "code",
   "execution_count": 76,
   "id": "eb6699ad-d50a-4b9e-aeeb-0fe977d6cedf",
   "metadata": {},
   "outputs": [
    {
     "data": {
      "text/html": [
       "<div>\n",
       "<style scoped>\n",
       "    .dataframe tbody tr th:only-of-type {\n",
       "        vertical-align: middle;\n",
       "    }\n",
       "\n",
       "    .dataframe tbody tr th {\n",
       "        vertical-align: top;\n",
       "    }\n",
       "\n",
       "    .dataframe thead th {\n",
       "        text-align: right;\n",
       "    }\n",
       "</style>\n",
       "<table border=\"1\" class=\"dataframe\">\n",
       "  <thead>\n",
       "    <tr style=\"text-align: right;\">\n",
       "      <th></th>\n",
       "      <th>name</th>\n",
       "      <th>revenue</th>\n",
       "    </tr>\n",
       "  </thead>\n",
       "  <tbody>\n",
       "    <tr>\n",
       "      <th>0</th>\n",
       "      <td>Pool Table</td>\n",
       "      <td>270</td>\n",
       "    </tr>\n",
       "    <tr>\n",
       "      <th>1</th>\n",
       "      <td>Snooker Table</td>\n",
       "      <td>240</td>\n",
       "    </tr>\n",
       "    <tr>\n",
       "      <th>2</th>\n",
       "      <td>Table Tennis</td>\n",
       "      <td>180</td>\n",
       "    </tr>\n",
       "  </tbody>\n",
       "</table>\n",
       "</div>"
      ],
      "text/plain": [
       "            name  revenue\n",
       "0     Pool Table      270\n",
       "1  Snooker Table      240\n",
       "2   Table Tennis      180"
      ]
     },
     "execution_count": 76,
     "metadata": {},
     "output_type": "execute_result"
    }
   ],
   "source": [
    "revenue.head()"
   ]
  },
  {
   "cell_type": "markdown",
   "id": "c5747974-e2a6-49ae-914c-598128f0f23b",
   "metadata": {},
   "source": [
    "/* Q11: Produce a report of members and who recommended them in alphabetic surname,firstname order */"
   ]
  },
  {
   "cell_type": "code",
   "execution_count": 77,
   "id": "8d672d73-14fe-4d41-af37-dca9463d9ba6",
   "metadata": {},
   "outputs": [],
   "source": [
    "# Create Dataframe\n",
    "report = pd.read_sql_query(\"SELECT \"\n",
    "                 \"m1.firstname || ' ' || m1.surname AS member_name, \"\n",
    "                 \"m2.firstname || ' ' || m2.surname AS recommended_by \"\n",
    "                 \"FROM Members AS m1 \"\n",
    "                 \"LEFT JOIN Members AS m2 ON m1.recommendedby = m2.memid \"\n",
    "                 \"ORDER BY m1.surname, m1.firstname;\", engine)"
   ]
  },
  {
   "cell_type": "code",
   "execution_count": 78,
   "id": "0283144f-4ebc-4beb-9560-e5bc84871b10",
   "metadata": {},
   "outputs": [
    {
     "data": {
      "text/html": [
       "<div>\n",
       "<style scoped>\n",
       "    .dataframe tbody tr th:only-of-type {\n",
       "        vertical-align: middle;\n",
       "    }\n",
       "\n",
       "    .dataframe tbody tr th {\n",
       "        vertical-align: top;\n",
       "    }\n",
       "\n",
       "    .dataframe thead th {\n",
       "        text-align: right;\n",
       "    }\n",
       "</style>\n",
       "<table border=\"1\" class=\"dataframe\">\n",
       "  <thead>\n",
       "    <tr style=\"text-align: right;\">\n",
       "      <th></th>\n",
       "      <th>member_name</th>\n",
       "      <th>recommended_by</th>\n",
       "    </tr>\n",
       "  </thead>\n",
       "  <tbody>\n",
       "    <tr>\n",
       "      <th>0</th>\n",
       "      <td>Florence Bader</td>\n",
       "      <td>Ponder Stibbons</td>\n",
       "    </tr>\n",
       "    <tr>\n",
       "      <th>1</th>\n",
       "      <td>Anne Baker</td>\n",
       "      <td>Ponder Stibbons</td>\n",
       "    </tr>\n",
       "    <tr>\n",
       "      <th>2</th>\n",
       "      <td>Timothy Baker</td>\n",
       "      <td>Jemima Farrell</td>\n",
       "    </tr>\n",
       "    <tr>\n",
       "      <th>3</th>\n",
       "      <td>Tim Boothe</td>\n",
       "      <td>Tim Rownam</td>\n",
       "    </tr>\n",
       "    <tr>\n",
       "      <th>4</th>\n",
       "      <td>Gerald Butters</td>\n",
       "      <td>Darren Smith</td>\n",
       "    </tr>\n",
       "  </tbody>\n",
       "</table>\n",
       "</div>"
      ],
      "text/plain": [
       "      member_name   recommended_by\n",
       "0  Florence Bader  Ponder Stibbons\n",
       "1      Anne Baker  Ponder Stibbons\n",
       "2   Timothy Baker   Jemima Farrell\n",
       "3      Tim Boothe       Tim Rownam\n",
       "4  Gerald Butters     Darren Smith"
      ]
     },
     "execution_count": 78,
     "metadata": {},
     "output_type": "execute_result"
    }
   ],
   "source": [
    "report.head()"
   ]
  },
  {
   "cell_type": "markdown",
   "id": "63fda5bb-524b-4388-8b70-ff0268a9f0fb",
   "metadata": {},
   "source": [
    "/* Q12: Find the facilities with their usage by member, but not guests */"
   ]
  },
  {
   "cell_type": "code",
   "execution_count": 79,
   "id": "ef6e5119-bf81-4a66-8a59-f3a9b23c9018",
   "metadata": {},
   "outputs": [],
   "source": [
    "usage = pd.read_sql_query(\"SELECT f.name AS facility_name, \"\n",
    "                            \"m.firstname || ' ' || m.surname AS member_name, \"\n",
    "                            \"COUNT(b.slots) AS usage_by_members \"\n",
    "                            \"FROM Facilities AS f \"\n",
    "                            \"INNER JOIN Bookings AS b ON f.facid = b.facid \"\n",
    "                            \"INNER JOIN Members AS m ON b.memid = m.memid \"\n",
    "                            \"WHERE b.memid != 0 \"\n",
    "                            \"GROUP BY facility_name, member_name;\", engine)"
   ]
  },
  {
   "cell_type": "code",
   "execution_count": 80,
   "id": "2ebe2c24-1ef3-4d59-a6b9-2571a912f04e",
   "metadata": {},
   "outputs": [
    {
     "data": {
      "text/html": [
       "<div>\n",
       "<style scoped>\n",
       "    .dataframe tbody tr th:only-of-type {\n",
       "        vertical-align: middle;\n",
       "    }\n",
       "\n",
       "    .dataframe tbody tr th {\n",
       "        vertical-align: top;\n",
       "    }\n",
       "\n",
       "    .dataframe thead th {\n",
       "        text-align: right;\n",
       "    }\n",
       "</style>\n",
       "<table border=\"1\" class=\"dataframe\">\n",
       "  <thead>\n",
       "    <tr style=\"text-align: right;\">\n",
       "      <th></th>\n",
       "      <th>facility_name</th>\n",
       "      <th>member_name</th>\n",
       "      <th>usage_by_members</th>\n",
       "    </tr>\n",
       "  </thead>\n",
       "  <tbody>\n",
       "    <tr>\n",
       "      <th>0</th>\n",
       "      <td>Badminton Court</td>\n",
       "      <td>Anna Mackenzie</td>\n",
       "      <td>30</td>\n",
       "    </tr>\n",
       "    <tr>\n",
       "      <th>1</th>\n",
       "      <td>Badminton Court</td>\n",
       "      <td>Anne Baker</td>\n",
       "      <td>10</td>\n",
       "    </tr>\n",
       "    <tr>\n",
       "      <th>2</th>\n",
       "      <td>Badminton Court</td>\n",
       "      <td>Burton Tracy</td>\n",
       "      <td>2</td>\n",
       "    </tr>\n",
       "    <tr>\n",
       "      <th>3</th>\n",
       "      <td>Badminton Court</td>\n",
       "      <td>Charles Owen</td>\n",
       "      <td>6</td>\n",
       "    </tr>\n",
       "    <tr>\n",
       "      <th>4</th>\n",
       "      <td>Badminton Court</td>\n",
       "      <td>Darren Smith</td>\n",
       "      <td>132</td>\n",
       "    </tr>\n",
       "  </tbody>\n",
       "</table>\n",
       "</div>"
      ],
      "text/plain": [
       "     facility_name     member_name  usage_by_members\n",
       "0  Badminton Court  Anna Mackenzie                30\n",
       "1  Badminton Court      Anne Baker                10\n",
       "2  Badminton Court    Burton Tracy                 2\n",
       "3  Badminton Court    Charles Owen                 6\n",
       "4  Badminton Court    Darren Smith               132"
      ]
     },
     "execution_count": 80,
     "metadata": {},
     "output_type": "execute_result"
    }
   ],
   "source": [
    "usage.head()"
   ]
  },
  {
   "cell_type": "markdown",
   "id": "e1e31dfe-05b8-49c1-9820-86b80c56ae58",
   "metadata": {},
   "source": [
    "/* Q13: Find the facilities usage by month, but not guests */"
   ]
  },
  {
   "cell_type": "code",
   "execution_count": 81,
   "id": "fe78640b-e294-4525-9b2e-359897d75d58",
   "metadata": {},
   "outputs": [],
   "source": [
    "# Create Dataframe\n",
    "usage_by_month = pd.read_sql_query(\"select f.name AS facility_name, \"\n",
    "                                   \"strftime('%Y-%m', b.starttime) AS month, \"\n",
    "                                   \"SUM(b.slots) AS usage_by_members \"\n",
    "                                   \"From Facilities AS f \"\n",
    "                                   \"Inner JOIN Bookings AS b ON f.facid = b.facid \"\n",
    "                                   \"WHERE b.memid != 0 \"\n",
    "                                   \"GROUP BY facility_name, month \"\n",
    "                                   \"ORDER BY facility_name, month; \", engine)"
   ]
  },
  {
   "cell_type": "code",
   "execution_count": 82,
   "id": "02c0bd88-5d9f-4912-b28a-f099d11cd943",
   "metadata": {},
   "outputs": [
    {
     "data": {
      "text/html": [
       "<div>\n",
       "<style scoped>\n",
       "    .dataframe tbody tr th:only-of-type {\n",
       "        vertical-align: middle;\n",
       "    }\n",
       "\n",
       "    .dataframe tbody tr th {\n",
       "        vertical-align: top;\n",
       "    }\n",
       "\n",
       "    .dataframe thead th {\n",
       "        text-align: right;\n",
       "    }\n",
       "</style>\n",
       "<table border=\"1\" class=\"dataframe\">\n",
       "  <thead>\n",
       "    <tr style=\"text-align: right;\">\n",
       "      <th></th>\n",
       "      <th>facility_name</th>\n",
       "      <th>month</th>\n",
       "      <th>usage_by_members</th>\n",
       "    </tr>\n",
       "  </thead>\n",
       "  <tbody>\n",
       "    <tr>\n",
       "      <th>0</th>\n",
       "      <td>Badminton Court</td>\n",
       "      <td>2012-07</td>\n",
       "      <td>165</td>\n",
       "    </tr>\n",
       "    <tr>\n",
       "      <th>1</th>\n",
       "      <td>Badminton Court</td>\n",
       "      <td>2012-08</td>\n",
       "      <td>414</td>\n",
       "    </tr>\n",
       "    <tr>\n",
       "      <th>2</th>\n",
       "      <td>Badminton Court</td>\n",
       "      <td>2012-09</td>\n",
       "      <td>507</td>\n",
       "    </tr>\n",
       "    <tr>\n",
       "      <th>3</th>\n",
       "      <td>Massage Room 1</td>\n",
       "      <td>2012-07</td>\n",
       "      <td>166</td>\n",
       "    </tr>\n",
       "    <tr>\n",
       "      <th>4</th>\n",
       "      <td>Massage Room 1</td>\n",
       "      <td>2012-08</td>\n",
       "      <td>316</td>\n",
       "    </tr>\n",
       "  </tbody>\n",
       "</table>\n",
       "</div>"
      ],
      "text/plain": [
       "     facility_name    month  usage_by_members\n",
       "0  Badminton Court  2012-07               165\n",
       "1  Badminton Court  2012-08               414\n",
       "2  Badminton Court  2012-09               507\n",
       "3   Massage Room 1  2012-07               166\n",
       "4   Massage Room 1  2012-08               316"
      ]
     },
     "execution_count": 82,
     "metadata": {},
     "output_type": "execute_result"
    }
   ],
   "source": [
    "usage_by_month.head()"
   ]
  }
 ],
 "metadata": {
  "kernelspec": {
   "display_name": "Python 3 (ipykernel)",
   "language": "python",
   "name": "python3"
  },
  "language_info": {
   "codemirror_mode": {
    "name": "ipython",
    "version": 3
   },
   "file_extension": ".py",
   "mimetype": "text/x-python",
   "name": "python",
   "nbconvert_exporter": "python",
   "pygments_lexer": "ipython3",
   "version": "3.11.5"
  }
 },
 "nbformat": 4,
 "nbformat_minor": 5
}
